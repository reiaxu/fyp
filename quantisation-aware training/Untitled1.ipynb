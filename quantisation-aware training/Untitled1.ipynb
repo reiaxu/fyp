{
  "cells": [
    {
      "cell_type": "code",
      "execution_count": 14,
      "metadata": {
        "id": "HO1Z4CKFZ3Kx"
      },
      "outputs": [],
      "source": [
        "import torch\n",
        "import torchvision\n",
        "import numpy as np\n",
        "import matplotlib.pyplot as plt\n",
        "import torch.nn as nn\n",
        "import torch.nn.functional as F\n",
        "from torchvision.datasets import CIFAR10\n",
        "from torchvision.transforms import ToTensor\n",
        "from torchvision.utils import make_grid\n",
        "from torch.utils.data.dataloader import DataLoader\n",
        "from torch.utils.data import random_split\n",
        "%matplotlib inline\n",
        "from torchvision import transforms\n",
        "from torchvision.utils import save_image\n",
        "import torch.optim as optim"
      ]
    },
    {
      "cell_type": "code",
      "execution_count": 15,
      "metadata": {
        "colab": {
          "base_uri": "https://localhost:8080/"
        },
        "id": "ylmxeOdXOhuT",
        "outputId": "d47086b0-869d-4c4e-9441-b507d5acf5cf"
      },
      "outputs": [
        {
          "name": "stdout",
          "output_type": "stream",
          "text": [
            "Files already downloaded and verified\n"
          ]
        },
        {
          "data": {
            "text/plain": [
              "Dataset CIFAR10\n",
              "    Number of datapoints: 50000\n",
              "    Root location: data/\n",
              "    Split: Train\n",
              "    StandardTransform\n",
              "Transform: Compose(\n",
              "               RandomCrop(size=(32, 32), padding=4)\n",
              "               RandomHorizontalFlip(p=0.5)\n",
              "               ToTensor()\n",
              "               Normalize(mean=(0.4914, 0.4822, 0.4465), std=(0.2023, 0.1994, 0.201))\n",
              "           )"
            ]
          },
          "execution_count": 15,
          "metadata": {},
          "output_type": "execute_result"
        }
      ],
      "source": [
        "transform_train = transforms.Compose([\n",
        "    transforms.RandomCrop(32, padding=4),\n",
        "    transforms.RandomHorizontalFlip(),\n",
        "    transforms.ToTensor(),\n",
        "    transforms.Normalize((0.4914, 0.4822, 0.4465), (0.2023, 0.1994, 0.2010)),\n",
        "])\n",
        "\n",
        "transform_test = transforms.Compose([\n",
        "    transforms.ToTensor(),\n",
        "    transforms.Normalize((0.4914, 0.4822, 0.4465), (0.2023, 0.1994, 0.2010)),\n",
        "])\n",
        "\n",
        "dataset = CIFAR10(root='data/', download=True, transform=transform_train)\n",
        "test_dataset = CIFAR10(root='data/', train=False, transform=transform_test)\n",
        "\n",
        "dataset"
      ]
    },
    {
      "cell_type": "code",
      "execution_count": 16,
      "metadata": {
        "colab": {
          "base_uri": "https://localhost:8080/"
        },
        "id": "JxJs_aw-Otxj",
        "outputId": "6898305e-490d-4d6c-d975-dfe6c085f433"
      },
      "outputs": [
        {
          "data": {
            "text/plain": [
              "{'frog': 5000,\n",
              " 'truck': 5000,\n",
              " 'deer': 5000,\n",
              " 'automobile': 5000,\n",
              " 'bird': 5000,\n",
              " 'horse': 5000,\n",
              " 'ship': 5000,\n",
              " 'cat': 5000,\n",
              " 'dog': 5000,\n",
              " 'airplane': 5000}"
            ]
          },
          "execution_count": 16,
          "metadata": {},
          "output_type": "execute_result"
        }
      ],
      "source": [
        "classes = dataset.classes\n",
        "\n",
        "class_count = {}\n",
        "for _, index in dataset:\n",
        "    label = classes[index]\n",
        "    if label not in class_count:\n",
        "        class_count[label] = 0\n",
        "    class_count[label] += 1\n",
        "    \n",
        "class_count"
      ]
    },
    {
      "cell_type": "code",
      "execution_count": 17,
      "metadata": {
        "colab": {
          "base_uri": "https://localhost:8080/"
        },
        "id": "Jbgxug6OO2uE",
        "outputId": "31d49a08-4630-40e5-bb44-f3d8ed7eeefe"
      },
      "outputs": [
        {
          "data": {
            "text/plain": [
              "(40000, 10000)"
            ]
          },
          "execution_count": 17,
          "metadata": {},
          "output_type": "execute_result"
        }
      ],
      "source": [
        "torch.manual_seed(43)\n",
        "val_size = 10000\n",
        "train_size = len(dataset) - val_size\n",
        "\n",
        "train_ds, val_ds = random_split(dataset, [train_size, val_size])\n",
        "len(train_ds), len(val_ds)"
      ]
    },
    {
      "cell_type": "code",
      "execution_count": 18,
      "metadata": {
        "id": "MnUQM2JgO_xh"
      },
      "outputs": [],
      "source": [
        "batch_size = 256\n",
        "\n",
        "train_loader = DataLoader(train_ds, batch_size, shuffle=True, pin_memory=True)\n",
        "val_loader = DataLoader(val_ds, batch_size, pin_memory=True)\n",
        "test_loader = DataLoader(test_dataset, batch_size, pin_memory=True)"
      ]
    },
    {
      "cell_type": "code",
      "execution_count": 19,
      "metadata": {
        "colab": {
          "base_uri": "https://localhost:8080/"
        },
        "id": "1gROeyEZPGWQ",
        "outputId": "c7576f3e-1b4d-41c4-c713-8c0044640538"
      },
      "outputs": [
        {
          "name": "stdout",
          "output_type": "stream",
          "text": [
            "Training Set:\n",
            "\n",
            "Image batch dimensions: torch.Size([256, 3, 32, 32])\n",
            "Image label dimensions: torch.Size([256])\n",
            "tensor([8, 2, 3, 0, 6, 3, 9, 8, 7, 8])\n",
            "\n",
            "Validation Set:\n",
            "Image batch dimensions: torch.Size([256, 3, 32, 32])\n",
            "Image label dimensions: torch.Size([256])\n",
            "tensor([6, 4, 2, 5, 4, 9, 1, 7, 2, 1])\n",
            "\n",
            "Testing Set:\n",
            "Image batch dimensions: torch.Size([256, 3, 32, 32])\n",
            "Image label dimensions: torch.Size([256])\n",
            "tensor([3, 8, 8, 0, 6, 6, 1, 6, 3, 1])\n"
          ]
        }
      ],
      "source": [
        "# Checking the dataset\n",
        "print('Training Set:\\n')\n",
        "for images, labels in train_loader:  \n",
        "    print('Image batch dimensions:', images.size())\n",
        "    print('Image label dimensions:', labels.size())\n",
        "    print(labels[:10])\n",
        "    break\n",
        "    \n",
        "# Checking the dataset\n",
        "print('\\nValidation Set:')\n",
        "for images, labels in val_loader:  \n",
        "    print('Image batch dimensions:', images.size())\n",
        "    print('Image label dimensions:', labels.size())\n",
        "    print(labels[:10])\n",
        "    break\n",
        "\n",
        "# Checking the dataset\n",
        "print('\\nTesting Set:')\n",
        "for images, labels in test_loader:  \n",
        "    print('Image batch dimensions:', images.size())\n",
        "    print('Image label dimensions:', labels.size())\n",
        "    print(labels[:10])\n",
        "    break"
      ]
    },
    {
      "cell_type": "code",
      "execution_count": 20,
      "metadata": {
        "colab": {
          "base_uri": "https://localhost:8080/",
          "height": 324
        },
        "id": "kWh7SNgzVKyO",
        "outputId": "45c76f3e-5c2d-493b-fa15-0e5e6402efd4"
      },
      "outputs": [
        {
          "name": "stderr",
          "output_type": "stream",
          "text": [
            "Clipping input data to the valid range for imshow with RGB data ([0..1] for floats or [0..255] for integers).\n"
          ]
        },
        {
          "data": {
            "image/png": "[encoded data removed]",
            "text/plain": [
              "<Figure size 432x288 with 1 Axes>"
            ]
          },
          "metadata": {
            "needs_background": "light"
          },
          "output_type": "display_data"
        },
        {
          "name": "stdout",
          "output_type": "stream",
          "text": [
            "bird  deer  deer  frog  airplane horse frog  ship  ship  truck ship  horse horse ship  horse cat   dog   bird  ship  horse cat   truck dog   deer  dog   deer  ship  airplane dog   horse ship  truck truck deer  bird  airplane ship  cat   automobile airplane bird  bird  horse automobile cat   bird  cat   horse automobile airplane dog   deer  ship  airplane cat   cat   frog  airplane deer  horse bird  frog  deer  ship  dog   frog  dog   horse dog   dog   automobile cat   automobile dog   deer  dog   ship  truck deer  horse horse automobile horse horse truck cat   dog   cat   horse deer  airplane deer  deer  cat   frog  horse cat   dog   bird  automobile horse truck horse cat   cat   bird  frog  deer  ship  deer  deer  horse ship  truck frog  deer  frog  frog  truck truck truck airplane truck frog  automobile airplane airplane ship  automobile ship  deer  automobile cat   deer  bird  ship  horse dog   dog   ship  automobile deer  ship  cat   dog   cat   horse truck horse cat   dog   deer  dog   airplane dog   dog   airplane automobile deer  frog  frog  airplane frog  automobile automobile cat   frog  deer  deer  airplane cat   automobile airplane frog  dog   dog   automobile bird  ship  automobile horse automobile airplane automobile dog   bird  deer  airplane horse bird  airplane ship  automobile horse deer  automobile automobile airplane cat   airplane airplane airplane dog   dog   ship  airplane cat   airplane ship  horse horse truck bird  frog  airplane ship  airplane deer  horse cat   frog  horse cat   dog   dog   dog   dog   airplane airplane frog  airplane cat   frog  bird  bird  deer  automobile airplane frog  bird  cat   ship  truck bird  automobile bird  frog  horse cat   bird  cat   deer  deer  airplane airplane bird \n"
          ]
        }
      ],
      "source": [
        "def imshow(img):\n",
        "    img = img.numpy()\n",
        "    plt.imshow(np.transpose(img, (1, 2, 0)))\n",
        "    plt.show()\n",
        "\n",
        "# get some random training images\n",
        "dataiter = iter(train_loader)\n",
        "images, labels = dataiter.next()\n",
        "\n",
        "# show images\n",
        "imshow(torchvision.utils.make_grid(images))\n",
        "# print labels\n",
        "print(' '.join(f'{classes[labels[j]]:5s}' for j in range(batch_size)))"
      ]
    },
    {
      "cell_type": "code",
      "execution_count": 21,
      "metadata": {
        "id": "cjfIDIDmOszg"
      },
      "outputs": [],
      "source": [
        "# class AlexNet(nn.Module):\n",
        "\n",
        "#     def __init__(self, num_classes):\n",
        "#         super(AlexNet, self).__init__()\n",
        "#         self.quant = torch.quantization.QuantStub()\n",
        "#         self.features = nn.Sequential(\n",
        "#             nn.Conv2d(3, 64, kernel_size=11, stride=4, padding=2),\n",
        "#             nn.ReLU(inplace=True),\n",
        "#             nn.MaxPool2d(kernel_size=3, stride=2),\n",
        "            \n",
        "#             nn.Conv2d(64, 192, kernel_size=5, padding=2),\n",
        "#             nn.ReLU(inplace=True),\n",
        "#             nn.MaxPool2d(kernel_size=3, stride=2),\n",
        "            \n",
        "#             nn.Conv2d(192, 384, kernel_size=3, padding=1),\n",
        "#             nn.ReLU(inplace=True),\n",
        "            \n",
        "#             nn.Conv2d(384, 256, kernel_size=3, padding=1),\n",
        "#             nn.ReLU(inplace=True),\n",
        "            \n",
        "#             nn.Conv2d(256, 256, kernel_size=3, padding=1),\n",
        "#             nn.ReLU(inplace=True),\n",
        "#             nn.MaxPool2d(kernel_size=3, stride=2),\n",
        "#         )\n",
        "#         self.avgpool = nn.AdaptiveAvgPool2d((6, 6))\n",
        "#         self.classifier = nn.Sequential(\n",
        "#             nn.Dropout(0.5),\n",
        "#             nn.Linear(256 * 6 * 6, 4096),\n",
        "#             nn.ReLU(inplace=True),\n",
        "#             nn.Dropout(0.5),\n",
        "#             nn.Linear(4096, 4096),\n",
        "#             nn.ReLU(inplace=True),\n",
        "#             nn.Linear(4096, num_classes)\n",
        "#         )\n",
        "#         self.dequant = torch.quantization.DeQuantStub()\n",
        "\n",
        "#     def forward(self, x):\n",
        "#         if self.quantize:\n",
        "#             x = self.quant(x)\n",
        "#         x = self.features(x)\n",
        "#         x = self.avgpool(x)\n",
        "#         x = x.view(x.size(0), 256 * 6 * 6)\n",
        "#         logits = self.classifier(x)\n",
        "#         probas = F.softmax(logits, dim=1)\n",
        "\n",
        "#         if self.quantize:\n",
        "#             x = self.dequant(logits)\n",
        "#         return logits\n",
        "# !pip install brevitas\n",
        "\n",
        "# import brevitas.nn as qnn\n",
        "\n",
        "# class AlexNet(nn.Module):\n",
        "\n",
        "#     def __init__(self, num_classes):\n",
        "#         super(AlexNet, self).__init__()\n",
        "#         self.features = nn.Sequential(\n",
        "#             qnn.QuantConv2d(3, 64, kernel_size=11, stride=4, padding=2, weight_bit_width=2),\n",
        "#             nn.ReLU(inplace=True),\n",
        "#             nn.MaxPool2d(kernel_size=3, stride=2),\n",
        "            \n",
        "#             qnn.QuantConv2d(64, 192, kernel_size=5, padding=2, weight_bit_width=2),\n",
        "#             nn.ReLU(inplace=True),\n",
        "#             nn.MaxPool2d(kernel_size=3, stride=2),\n",
        "            \n",
        "#             qnn.QuantConv2d(192, 384, kernel_size=3, padding=1, weight_bit_width=2),\n",
        "#             nn.ReLU(inplace=True),\n",
        "            \n",
        "#             qnn.QuantConv2d(384, 256, kernel_size=3, padding=1, weight_bit_width=2),\n",
        "#             nn.ReLU(inplace=True),\n",
        "            \n",
        "#             qnn.QuantConv2d(256, 256, kernel_size=3, padding=1, weight_bit_width=2),\n",
        "#             nn.ReLU(inplace=True),\n",
        "#             nn.MaxPool2d(kernel_size=3, stride=2),\n",
        "#         )\n",
        "#         self.avgpool = nn.AdaptiveAvgPool2d((6, 6))\n",
        "#         self.classifier = nn.Sequential(\n",
        "#             nn.Dropout(0.5),\n",
        "#             qnn.QuantLinear(256 * 6 * 6, 4096, bias=True, weight_bit_width=2),\n",
        "#             nn.ReLU(inplace=True),\n",
        "#             nn.Dropout(0.5),\n",
        "#             qnn.QuantLinear(4096, 4096, bias=True, weight_bit_width=2),\n",
        "#             nn.ReLU(inplace=True),\n",
        "#             qnn.QuantLinear(4096, num_classes, bias=True, weight_bit_width=2)\n",
        "#         )\n",
        "        \n",
        "\n",
        "#     def forward(self, x):\n",
        "        \n",
        "#         x = self.features(x)\n",
        "#         x = self.avgpool(x)\n",
        "#         x = x.view(x.size(0), 256 * 6 * 6)\n",
        "#         logits = self.classifier(x)\n",
        "#         probas = F.softmax(logits, dim=1)\n",
        "\n",
        "#         return logits\n",
        "\n",
        "class BasicBlock(nn.Module):\n",
        "    expansion = 1\n",
        "\n",
        "    def __init__(self, in_planes, planes, stride=1):\n",
        "        super(BasicBlock, self).__init__()\n",
        "        self.conv1 = nn.Conv2d(\n",
        "            in_planes, planes, kernel_size=3, stride=stride, padding=1, bias=False)\n",
        "        self.bn1 = nn.BatchNorm2d(planes)\n",
        "        self.conv2 = nn.Conv2d(planes, planes, kernel_size=3,\n",
        "                               stride=1, padding=1, bias=False)\n",
        "        self.bn2 = nn.BatchNorm2d(planes)\n",
        "\n",
        "        self.shortcut = nn.Sequential()\n",
        "        if stride != 1 or in_planes != self.expansion*planes:\n",
        "            self.shortcut = nn.Sequential(\n",
        "                nn.Conv2d(in_planes, self.expansion*planes,\n",
        "                          kernel_size=1, stride=stride, bias=False),\n",
        "                nn.BatchNorm2d(self.expansion*planes)\n",
        "            )\n",
        "\n",
        "    def forward(self, x):\n",
        "        out = F.relu(self.bn1(self.conv1(x)))\n",
        "        out = self.bn2(self.conv2(out))\n",
        "        out += self.shortcut(x)\n",
        "        out = F.relu(out)\n",
        "        return out\n",
        "\n",
        "\n",
        "class Bottleneck(nn.Module):\n",
        "    expansion = 4\n",
        "\n",
        "    def __init__(self, in_planes, planes, stride=1):\n",
        "        super(Bottleneck, self).__init__()\n",
        "        self.conv1 = nn.Conv2d(in_planes, planes, kernel_size=1, bias=False)\n",
        "        self.bn1 = nn.BatchNorm2d(planes)\n",
        "        self.conv2 = nn.Conv2d(planes, planes, kernel_size=3,\n",
        "                               stride=stride, padding=1, bias=False)\n",
        "        self.bn2 = nn.BatchNorm2d(planes)\n",
        "        self.conv3 = nn.Conv2d(planes, self.expansion *\n",
        "                               planes, kernel_size=1, bias=False)\n",
        "        self.bn3 = nn.BatchNorm2d(self.expansion*planes)\n",
        "\n",
        "        self.shortcut = nn.Sequential()\n",
        "        if stride != 1 or in_planes != self.expansion*planes:\n",
        "            self.shortcut = nn.Sequential(\n",
        "                nn.Conv2d(in_planes, self.expansion*planes,\n",
        "                          kernel_size=1, stride=stride, bias=False),\n",
        "                nn.BatchNorm2d(self.expansion*planes)\n",
        "            )\n",
        "\n",
        "    def forward(self, x):\n",
        "        out = F.relu(self.bn1(self.conv1(x)))\n",
        "        out = F.relu(self.bn2(self.conv2(out)))\n",
        "        out = self.bn3(self.conv3(out))\n",
        "        out += self.shortcut(x)\n",
        "        out = F.relu(out)\n",
        "        return out\n",
        "\n",
        "\n",
        "class ResNet(nn.Module):\n",
        "    def __init__(self, block, num_blocks, num_classes=10):\n",
        "        super(ResNet, self).__init__()\n",
        "        self.in_planes = 64\n",
        "\n",
        "        self.conv1 = nn.Conv2d(3, 64, kernel_size=3,\n",
        "                               stride=1, padding=1, bias=False)\n",
        "        self.bn1 = nn.BatchNorm2d(64)\n",
        "        self.layer1 = self._make_layer(block, 64, num_blocks[0], stride=1)\n",
        "        self.layer2 = self._make_layer(block, 128, num_blocks[1], stride=2)\n",
        "        self.layer3 = self._make_layer(block, 256, num_blocks[2], stride=2)\n",
        "        self.layer4 = self._make_layer(block, 512, num_blocks[3], stride=2)\n",
        "        self.linear = nn.Linear(512*block.expansion, num_classes)\n",
        "\n",
        "    def _make_layer(self, block, planes, num_blocks, stride):\n",
        "        strides = [stride] + [1]*(num_blocks-1)\n",
        "        layers = []\n",
        "        for stride in strides:\n",
        "            layers.append(block(self.in_planes, planes, stride))\n",
        "            self.in_planes = planes * block.expansion\n",
        "        return nn.Sequential(*layers)\n",
        "\n",
        "    def forward(self, x):\n",
        "        out = F.relu(self.bn1(self.conv1(x)))\n",
        "        out = self.layer1(out)\n",
        "        out = self.layer2(out)\n",
        "        out = self.layer3(out)\n",
        "        out = self.layer4(out)\n",
        "        out = F.avg_pool2d(out, 4)\n",
        "        out = out.view(out.size(0), -1)\n",
        "        out = self.linear(out)\n",
        "        return out\n",
        "\n",
        "\n",
        "def ResNet18():\n",
        "    return ResNet(BasicBlock, [2, 2, 2, 2])"
      ]
    },
    {
      "cell_type": "code",
      "execution_count": 22,
      "metadata": {
        "id": "cmwTgaE0Q8OU"
      },
      "outputs": [],
      "source": [
        "model = ResNet18()\n",
        "\n",
        "def get_default_device():\n",
        "    \"\"\"Pick GPU if available, else CPU\"\"\"\n",
        "    if torch.cuda.is_available():\n",
        "        return torch.device('cuda')\n",
        "    else:\n",
        "        return torch.device('cpu')\n",
        "\n",
        "device = get_default_device()\n",
        "model.to(device)\n",
        "\n",
        "optimizer = torch.optim.Adam(model.parameters(), lr=0.001)  "
      ]
    },
    {
      "cell_type": "code",
      "execution_count": 23,
      "metadata": {
        "colab": {
          "base_uri": "https://localhost:8080/"
        },
        "id": "lcwcAuVpRJzH",
        "outputId": "b7ea7aaa-5b6e-4d7b-dfcd-beef27287f48"
      },
      "outputs": [
        {
          "name": "stdout",
          "output_type": "stream",
          "text": [
            "The model has 11,173,962 trainable parameters\n"
          ]
        }
      ],
      "source": [
        "def count_parameters(model):\n",
        "    return sum(p.numel() for p in model.parameters() if p.requires_grad)\n",
        "\n",
        "\n",
        "print(f'The model has {count_parameters(model):,} trainable parameters')"
      ]
    },
    {
      "cell_type": "code",
      "execution_count": 24,
      "metadata": {
        "id": "RmgE1E1wXXUW"
      },
      "outputs": [],
      "source": [
        "from itertools import product\n",
        "\n",
        "def compute_accuracy(model, data_loader, device):\n",
        "    model.eval()\n",
        "    with torch.no_grad():\n",
        "        correct_pred, num_examples = 0, 0\n",
        "        for i, (features, targets) in enumerate(data_loader):\n",
        "\n",
        "            features = features.to(device)\n",
        "            targets = targets.to(device)\n",
        "\n",
        "            logits = model(features)\n",
        "            if isinstance(logits, torch.distributed.rpc.api.RRef):\n",
        "                logits = logits.local_value()\n",
        "            _, predicted_labels = torch.max(logits, 1)\n",
        "            num_examples += targets.size(0)\n",
        "            correct_pred += (predicted_labels == targets).sum()\n",
        "    return correct_pred.float()/num_examples * 100\n",
        "\n",
        "\n",
        "def compute_epoch_loss(model, data_loader, device):\n",
        "    model.eval()\n",
        "    curr_loss, num_examples = 0., 0\n",
        "    with torch.no_grad():\n",
        "        for features, targets in data_loader:\n",
        "            features = features.to(device)\n",
        "            targets = targets.to(device)\n",
        "            logits = model(features)\n",
        "            if isinstance(logits, torch.distributed.rpc.api.RRef):\n",
        "                logits = logits.local_value()\n",
        "            loss = F.cross_entropy(logits, targets, reduction='sum')\n",
        "            num_examples += targets.size(0)\n",
        "            curr_loss += loss\n",
        "\n",
        "        curr_loss = curr_loss / num_examples\n",
        "        return curr_loss\n",
        "\n",
        "\n",
        "def compute_confusion_matrix(model, data_loader, device):\n",
        "\n",
        "    all_targets, all_predictions = [], []\n",
        "    with torch.no_grad():\n",
        "\n",
        "        for i, (features, targets) in enumerate(data_loader):\n",
        "\n",
        "            features = features.to(device)\n",
        "            targets = targets\n",
        "            logits = model(features)\n",
        "            _, predicted_labels = torch.max(logits, 1)\n",
        "            all_targets.extend(targets.to('cpu'))\n",
        "            all_predictions.extend(predicted_labels.to('cpu'))\n",
        "\n",
        "    all_predictions = all_predictions\n",
        "    all_predictions = np.array(all_predictions)\n",
        "    all_targets = np.array(all_targets)\n",
        "\n",
        "    class_labels = np.unique(np.concatenate((all_targets, all_predictions)))\n",
        "    if class_labels.shape[0] == 1:\n",
        "        if class_labels[0] != 0:\n",
        "            class_labels = np.array([0, class_labels[0]])\n",
        "        else:\n",
        "            class_labels = np.array([class_labels[0], 1])\n",
        "    n_labels = class_labels.shape[0]\n",
        "    lst = []\n",
        "    z = list(zip(all_targets, all_predictions))\n",
        "    for combi in product(class_labels, repeat=2):\n",
        "        lst.append(z.count(combi))\n",
        "    mat = np.asarray(lst)[:, None].reshape(n_labels, n_labels)\n",
        "    return mat"
      ]
    },
    {
      "cell_type": "code",
      "execution_count": 27,
      "metadata": {
        "id": "mG6isfPRRwiA"
      },
      "outputs": [],
      "source": [
        "import time\n",
        "\n",
        "def train_classifier(num_epochs, model, optimizer, device, \n",
        "                               train_loader, valid_loader=None, \n",
        "                               loss_fn=None, logging_interval=100, \n",
        "                               skip_epoch_stats=False):\n",
        "    \n",
        "    log_dict = {'train_loss_per_batch': [],\n",
        "                'train_acc_per_epoch': [],\n",
        "                'train_loss_per_epoch': [],\n",
        "                'valid_acc_per_epoch': [],\n",
        "                'valid_loss_per_epoch': []}\n",
        "    \n",
        "    if loss_fn is None:\n",
        "        loss_fn = F.cross_entropy\n",
        "\n",
        "    start_time = time.time()\n",
        "    for epoch in range(num_epochs):\n",
        "\n",
        "        model.train()\n",
        "        for batch_idx, (features, targets) in enumerate(train_loader):\n",
        "\n",
        "            features = features.to(device)\n",
        "            targets = targets.to(device)\n",
        "\n",
        "            # FORWARD AND BACK PROP\n",
        "            logits = model(features)\n",
        "            if isinstance(logits, torch.distributed.rpc.RRef):\n",
        "                logits = logits.local_value()\n",
        "            loss = loss_fn(logits, targets)\n",
        "            optimizer.zero_grad()\n",
        "\n",
        "            loss.backward()\n",
        "\n",
        "            # UPDATE MODEL PARAMETERS\n",
        "            optimizer.step()\n",
        "\n",
        "            # LOGGING\n",
        "            log_dict['train_loss_per_batch'].append(loss.item())\n",
        "\n",
        "            if not batch_idx % logging_interval:\n",
        "                print('Epoch: %03d/%03d | Batch %04d/%04d | Loss: %.4f'\n",
        "                      % (epoch+1, num_epochs, batch_idx,\n",
        "                          len(train_loader), loss))\n",
        "\n",
        "        if not skip_epoch_stats:\n",
        "            model.eval()\n",
        "\n",
        "            with torch.set_grad_enabled(False):  # save memory during inference\n",
        "\n",
        "                train_acc = compute_accuracy(model, train_loader, device)\n",
        "                train_loss = compute_epoch_loss(model, train_loader, device)\n",
        "                print('***Epoch: %03d/%03d | Train. Acc.: %.3f%% | Loss: %.3f' % (\n",
        "                      epoch+1, num_epochs, train_acc, train_loss))\n",
        "                log_dict['train_loss_per_epoch'].append(train_loss.item())\n",
        "                log_dict['train_acc_per_epoch'].append(train_acc.item())\n",
        "\n",
        "                if valid_loader is not None:\n",
        "                    valid_acc = compute_accuracy(model, valid_loader, device)\n",
        "                    valid_loss = compute_epoch_loss(model, valid_loader, device)\n",
        "                    print('***Epoch: %03d/%03d | Valid. Acc.: %.3f%% | Loss: %.3f' % (\n",
        "                          epoch+1, num_epochs, valid_acc, valid_loss))\n",
        "                    log_dict['valid_loss_per_epoch'].append(valid_loss.item())\n",
        "                    log_dict['valid_acc_per_epoch'].append(valid_acc.item())\n",
        "\n",
        "        print('Time elapsed: %.2f min' % ((time.time() - start_time)/60))\n",
        "\n",
        "    print('Total Training Time: %.2f min' % ((time.time() - start_time)/60))\n",
        "\n",
        "    return log_dict"
      ]
    },
    {
      "cell_type": "code",
      "execution_count": 28,
      "metadata": {
        "colab": {
          "base_uri": "https://localhost:8080/"
        },
        "id": "N4uDZUB7Xevz",
        "outputId": "dcc82fc5-a19d-41d3-ae37-f96cdb8d6539"
      },
      "outputs": [
        {
          "ename": "AttributeError",
          "evalue": "module 'torch.distributed.rpc' has no attribute 'RRef'",
          "output_type": "error",
          "traceback": [
            "\u001b[1;31m---------------------------------------------------------------------------\u001b[0m",
            "\u001b[1;31mAttributeError\u001b[0m                            Traceback (most recent call last)",
            "\u001b[1;32mC:\\Users\\Public\\Documents\\Wondershare\\CreatorTemp/ipykernel_17048/3180095882.py\u001b[0m in \u001b[0;36m<module>\u001b[1;34m\u001b[0m\n\u001b[1;32m----> 1\u001b[1;33m log_dict = train_classifier(num_epochs=10, model=model, \n\u001b[0m\u001b[0;32m      2\u001b[0m                                       \u001b[0moptimizer\u001b[0m\u001b[1;33m=\u001b[0m\u001b[0moptimizer\u001b[0m\u001b[1;33m,\u001b[0m \u001b[0mdevice\u001b[0m\u001b[1;33m=\u001b[0m\u001b[0mdevice\u001b[0m\u001b[1;33m,\u001b[0m\u001b[1;33m\u001b[0m\u001b[1;33m\u001b[0m\u001b[0m\n\u001b[0;32m      3\u001b[0m                                       \u001b[0mtrain_loader\u001b[0m\u001b[1;33m=\u001b[0m\u001b[0mtrain_loader\u001b[0m\u001b[1;33m,\u001b[0m \u001b[0mvalid_loader\u001b[0m\u001b[1;33m=\u001b[0m\u001b[0mval_loader\u001b[0m\u001b[1;33m,\u001b[0m\u001b[1;33m\u001b[0m\u001b[1;33m\u001b[0m\u001b[0m\n\u001b[0;32m      4\u001b[0m                                       logging_interval=100)\n",
            "\u001b[1;32mC:\\Users\\Public\\Documents\\Wondershare\\CreatorTemp/ipykernel_17048/1168853227.py\u001b[0m in \u001b[0;36mtrain_classifier\u001b[1;34m(num_epochs, model, optimizer, device, train_loader, valid_loader, loss_fn, logging_interval, skip_epoch_stats)\u001b[0m\n\u001b[0;32m     26\u001b[0m             \u001b[1;31m# FORWARD AND BACK PROP\u001b[0m\u001b[1;33m\u001b[0m\u001b[1;33m\u001b[0m\u001b[1;33m\u001b[0m\u001b[0m\n\u001b[0;32m     27\u001b[0m             \u001b[0mlogits\u001b[0m \u001b[1;33m=\u001b[0m \u001b[0mmodel\u001b[0m\u001b[1;33m(\u001b[0m\u001b[0mfeatures\u001b[0m\u001b[1;33m)\u001b[0m\u001b[1;33m\u001b[0m\u001b[1;33m\u001b[0m\u001b[0m\n\u001b[1;32m---> 28\u001b[1;33m             \u001b[1;32mif\u001b[0m \u001b[0misinstance\u001b[0m\u001b[1;33m(\u001b[0m\u001b[0mlogits\u001b[0m\u001b[1;33m,\u001b[0m \u001b[0mtorch\u001b[0m\u001b[1;33m.\u001b[0m\u001b[0mdistributed\u001b[0m\u001b[1;33m.\u001b[0m\u001b[0mrpc\u001b[0m\u001b[1;33m.\u001b[0m\u001b[0mRRef\u001b[0m\u001b[1;33m)\u001b[0m\u001b[1;33m:\u001b[0m\u001b[1;33m\u001b[0m\u001b[1;33m\u001b[0m\u001b[0m\n\u001b[0m\u001b[0;32m     29\u001b[0m                 \u001b[0mlogits\u001b[0m \u001b[1;33m=\u001b[0m \u001b[0mlogits\u001b[0m\u001b[1;33m.\u001b[0m\u001b[0mlocal_value\u001b[0m\u001b[1;33m(\u001b[0m\u001b[1;33m)\u001b[0m\u001b[1;33m\u001b[0m\u001b[1;33m\u001b[0m\u001b[0m\n\u001b[0;32m     30\u001b[0m             \u001b[0mloss\u001b[0m \u001b[1;33m=\u001b[0m \u001b[0mloss_fn\u001b[0m\u001b[1;33m(\u001b[0m\u001b[0mlogits\u001b[0m\u001b[1;33m,\u001b[0m \u001b[0mtargets\u001b[0m\u001b[1;33m)\u001b[0m\u001b[1;33m\u001b[0m\u001b[1;33m\u001b[0m\u001b[0m\n",
            "\u001b[1;31mAttributeError\u001b[0m: module 'torch.distributed.rpc' has no attribute 'RRef'"
          ]
        }
      ],
      "source": [
        "log_dict = train_classifier(num_epochs=10, model=model, \n",
        "                                      optimizer=optimizer, device=device, \n",
        "                                      train_loader=train_loader, valid_loader=val_loader, \n",
        "                                      logging_interval=100)"
      ]
    },
    {
      "cell_type": "code",
      "execution_count": null,
      "metadata": {
        "id": "fdfKlpw5Xq4x"
      },
      "outputs": [],
      "source": [
        "loss_list = log_dict['train_loss_per_batch']\n",
        "\n",
        "plt.plot(loss_list, label='Minibatch loss')\n",
        "plt.plot(np.convolve(loss_list, \n",
        "                     np.ones(200,)/200, mode='valid'), \n",
        "         label='Running average')\n",
        "\n",
        "plt.ylabel('Cross Entropy')\n",
        "plt.xlabel('Iteration')\n",
        "plt.legend()\n",
        "plt.show()"
      ]
    },
    {
      "cell_type": "code",
      "execution_count": null,
      "metadata": {
        "id": "3MXulc3pm6Fk"
      },
      "outputs": [],
      "source": [
        "plt.plot(np.arange(1, 10+1), log_dict['train_acc_per_epoch'], label='Training')\n",
        "plt.plot(np.arange(1, 10+1), log_dict['valid_acc_per_epoch'], label='Validation')\n",
        "\n",
        "plt.xlabel('Epoch')\n",
        "plt.ylabel('Accuracy')\n",
        "plt.legend()\n",
        "plt.show()"
      ]
    },
    {
      "cell_type": "code",
      "execution_count": null,
      "metadata": {
        "id": "tC4q5-kznSCr"
      },
      "outputs": [],
      "source": [
        "with torch.set_grad_enabled(False):\n",
        "    \n",
        "    train_acc = compute_accuracy(model=model,\n",
        "                                 data_loader=test_loader,\n",
        "                                 device=device)\n",
        "    \n",
        "    test_acc = compute_accuracy(model=model,\n",
        "                                data_loader=test_loader,\n",
        "                                device=device)\n",
        "    \n",
        "    valid_acc = compute_accuracy(model=model,\n",
        "                                 data_loader=val_loader,\n",
        "                                 device=device)\n",
        "    \n",
        "\n",
        "print(f'Train ACC: {valid_acc:.2f}%')\n",
        "print(f'Validation ACC: {valid_acc:.2f}%')\n",
        "print(f'Test ACC: {test_acc:.2f}%')"
      ]
    },
    {
      "cell_type": "code",
      "execution_count": null,
      "metadata": {
        "id": "18YtevO0GdFz"
      },
      "outputs": [],
      "source": [
        "print(model)"
      ]
    },
    {
      "cell_type": "code",
      "execution_count": null,
      "metadata": {
        "id": "MF1Yba3fkxcd"
      },
      "outputs": [],
      "source": []
    }
  ],
  "metadata": {
    "accelerator": "GPU",
    "colab": {
      "collapsed_sections": [],
      "name": "Untitled1.ipynb",
      "provenance": []
    },
    "kernelspec": {
      "display_name": "Python 3",
      "name": "python3"
    },
    "language_info": {
      "codemirror_mode": {
        "name": "ipython",
        "version": 3
      },
      "file_extension": ".py",
      "mimetype": "text/x-python",
      "name": "python",
      "nbconvert_exporter": "python",
      "pygments_lexer": "ipython3",
      "version": "3.9.5"
    }
  },
  "nbformat": 4,
  "nbformat_minor": 0
}
